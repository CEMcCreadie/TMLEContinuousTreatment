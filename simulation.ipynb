{
 "cells": [
  {
   "attachments": {},
   "cell_type": "markdown",
   "metadata": {},
   "source": [
    "From paper: https://arxiv.org/pdf/2306.07736.pdf\n",
    "\n",
    "<h1>5. Simulations Study</h1>\n",
    "\n",
    "We generate $W_1,...,W_n$ as an independent bivariate normal random vectors with mean zero and unit variance and correlation 0.5.\n",
    "\n",
    "Given $W$, we draw $A_1,...,A_n$ from the conditional distribution with density function\n",
    "\n",
    "$$\n",
    "g_0(a|w) = \\frac{\\text{expit}(\\zeta(w)a)}{\\int_{-1}^1\\text{expit}(\\zeta(w)a)da}\\mathbb{I}(-1\\leq a \\leq 1)\n",
    "$$\n",
    "\n",
    "$$\n",
    "\\zeta(w) = 3 \\bigg\\{  \\text{expit}(w_1+w_2)- \\frac{1}{2} \\bigg\\}\n",
    "$$\n",
    "$$\n",
    "Y = -\\zeta(W)\\bigg\\{1-\\frac{A}{2}\\bigg\\} + \\epsilon\n",
    "$$\n",
    "\n",
    "Case Study B is such that:\n",
    "\n",
    "$$\n",
    "\\theta_0 : a \\mapsto \\frac{2a + a^2  - a^3}{2} \\\\\n",
    "Y = \\theta_0(A) - \\zeta(W)\\big\\{1 - \\frac{A}{2} \\big\\} + \\epsilon\n",
    "$$"
   ]
  },
  {
   "cell_type": "code",
   "execution_count": 1,
   "metadata": {
    "vscode": {
     "languageId": "r"
    }
   },
   "outputs": [
    {
     "data": {
      "text/html": [
       "<table class=\"dataframe\">\n",
       "<caption>A data.frame: 6 x 4</caption>\n",
       "<thead>\n",
       "\t<tr><th></th><th scope=col>W1</th><th scope=col>W2</th><th scope=col>A</th><th scope=col>Y</th></tr>\n",
       "\t<tr><th></th><th scope=col>&lt;dbl&gt;</th><th scope=col>&lt;dbl&gt;</th><th scope=col>&lt;dbl&gt;</th><th scope=col>&lt;dbl&gt;</th></tr>\n",
       "</thead>\n",
       "<tbody>\n",
       "\t<tr><th scope=row>1</th><td>-0.2800004</td><td>-1.180371470</td><td>-0.8630398</td><td> 1.1476221</td></tr>\n",
       "\t<tr><th scope=row>2</th><td> 0.6915074</td><td> 0.934970290</td><td> 0.1675308</td><td>-2.4621969</td></tr>\n",
       "\t<tr><th scope=row>3</th><td>-1.8221066</td><td>-1.915360020</td><td>-0.3561725</td><td> 2.4112679</td></tr>\n",
       "\t<tr><th scope=row>4</th><td> 0.6018957</td><td>-0.003221373</td><td> 0.7282529</td><td>-1.8264537</td></tr>\n",
       "\t<tr><th scope=row>5</th><td> 1.2991551</td><td> 1.590090239</td><td> 0.9820966</td><td>-1.1335363</td></tr>\n",
       "\t<tr><th scope=row>6</th><td> 0.2432559</td><td> 0.228652050</td><td>-0.8236068</td><td> 0.9997091</td></tr>\n",
       "</tbody>\n",
       "</table>\n"
      ],
      "text/latex": [
       "A data.frame: 6 x 4\n",
       "\\begin{tabular}{r|llll}\n",
       "  & W1 & W2 & A & Y\\\\\n",
       "  & <dbl> & <dbl> & <dbl> & <dbl>\\\\\n",
       "\\hline\n",
       "\t1 & -0.2800004 & -1.180371470 & -0.8630398 &  1.1476221\\\\\n",
       "\t2 &  0.6915074 &  0.934970290 &  0.1675308 & -2.4621969\\\\\n",
       "\t3 & -1.8221066 & -1.915360020 & -0.3561725 &  2.4112679\\\\\n",
       "\t4 &  0.6018957 & -0.003221373 &  0.7282529 & -1.8264537\\\\\n",
       "\t5 &  1.2991551 &  1.590090239 &  0.9820966 & -1.1335363\\\\\n",
       "\t6 &  0.2432559 &  0.228652050 & -0.8236068 &  0.9997091\\\\\n",
       "\\end{tabular}\n"
      ],
      "text/markdown": [
       "\n",
       "A data.frame: 6 x 4\n",
       "\n",
       "| <!--/--> | W1 &lt;dbl&gt; | W2 &lt;dbl&gt; | A &lt;dbl&gt; | Y &lt;dbl&gt; |\n",
       "|---|---|---|---|---|\n",
       "| 1 | -0.2800004 | -1.180371470 | -0.8630398 |  1.1476221 |\n",
       "| 2 |  0.6915074 |  0.934970290 |  0.1675308 | -2.4621969 |\n",
       "| 3 | -1.8221066 | -1.915360020 | -0.3561725 |  2.4112679 |\n",
       "| 4 |  0.6018957 | -0.003221373 |  0.7282529 | -1.8264537 |\n",
       "| 5 |  1.2991551 |  1.590090239 |  0.9820966 | -1.1335363 |\n",
       "| 6 |  0.2432559 |  0.228652050 | -0.8236068 |  0.9997091 |\n",
       "\n"
      ],
      "text/plain": [
       "  W1         W2           A          Y         \n",
       "1 -0.2800004 -1.180371470 -0.8630398  1.1476221\n",
       "2  0.6915074  0.934970290  0.1675308 -2.4621969\n",
       "3 -1.8221066 -1.915360020 -0.3561725  2.4112679\n",
       "4  0.6018957 -0.003221373  0.7282529 -1.8264537\n",
       "5  1.2991551  1.590090239  0.9820966 -1.1335363\n",
       "6  0.2432559  0.228652050 -0.8236068  0.9997091"
      ]
     },
     "metadata": {},
     "output_type": "display_data"
    }
   ],
   "source": [
    "library(rje)\n",
    "library(MASS)\n",
    "\n",
    "bivariate_normal <- function(n){\n",
    "    mu <- c(0, 0)\n",
    "    sigma <- matrix(c(1, 0.5, 0.5, 1), nrow = 2, ncol = 2)\n",
    "    return(mvrnorm(n, mu, sigma))\n",
    "}\n",
    "\n",
    "zeta <- function(w){\n",
    "    return(3*(expit(w[1] + w[2]) - 0.5))\n",
    "}\n",
    "\n",
    "indicate <- function(a){\n",
    "   ifelse(a > 1 | a < -1, 0, 1)\n",
    "}\n",
    "\n",
    "# define function for g0\n",
    "g0 <- function(a, w) {\n",
    "    expit(zeta(w)*a) / integrate(function(x) expit(zeta(w)*x), -1, 1)$value * indicate(a)\n",
    "}\n",
    "\n",
    "theta_0_fn <- function(a){\n",
    "    (2*a + a*a - (a*a*a)) / 2\n",
    "}\n",
    "\n",
    "n <- 30\n",
    "W <- bivariate_normal(n)\n",
    "# generate A using inverse CDF method\n",
    "A <- numeric(n)\n",
    "for (i in 1:n) {\n",
    "    u <- runif(1)\n",
    "    f <- function(a) integrate(function(x) g0(x, W[i,]), -1, a)$value - u\n",
    "    A[i] <- uniroot(f, c(-1, 1))$root\n",
    "}\n",
    "\n",
    "Y <- numeric(n)\n",
    "for (i in 1:n) {\n",
    "    epsilon <- runif(1, -2, 2)\n",
    "    z = zeta(W[i,])\n",
    "    # Case A\n",
    "    Y[i] <- -z * (1 - (A[i] / 2)) + epsilon\n",
    "    # Case B\n",
    "    # Y[i] <- theta_0_fn(A[i]) - (z * (1 - (A[i]/2))) + epsilon\n",
    "}\n",
    "\n",
    "\n",
    "data <- as.data.frame(cbind(W, A, Y))\n",
    "colnames(data) <- c(\"W1\",\"W2\",\"A\",\"Y\")\n",
    "head(data)"
   ]
  },
  {
   "attachments": {},
   "cell_type": "markdown",
   "metadata": {},
   "source": [
    "It is constructed as such that $\\theta_0$ (mean centered) = 0. There is no 'curve', therefore one would expect $E[Y] = 0$"
   ]
  },
  {
   "cell_type": "code",
   "execution_count": 2,
   "metadata": {
    "vscode": {
     "languageId": "r"
    }
   },
   "outputs": [
    {
     "data": {
      "text/html": [
       "0.206305793573653"
      ],
      "text/latex": [
       "0.206305793573653"
      ],
      "text/markdown": [
       "0.206305793573653"
      ],
      "text/plain": [
       "[1] 0.2063058"
      ]
     },
     "metadata": {},
     "output_type": "display_data"
    },
    {
     "name": "stdout",
     "output_type": "stream",
     "text": [
      "[1] 0.1242012\n",
      "[1] -0.02105278\n"
     ]
    }
   ],
   "source": [
    "mean(sapply(1:n, function(i) zeta(W[i, ])))\n",
    "print(mean(data[, 3]))\n",
    "print(mean(data[, 4]))"
   ]
  },
  {
   "attachments": {},
   "cell_type": "markdown",
   "metadata": {},
   "source": [
    "<h1>Plug in Estimator</h1>\n",
    "The plug-in estimator for h is\n",
    "\n",
    "$$\n",
    "\\psi_{\\hat P_n, \\theta^*}(h) = n^{-1}\\sum_{i=1}^n\\bigg[\\theta_n(A_i) - \\theta^*(A_i) - n^{-1}\\sum_{j=1}^n\\theta_n(A_j -\\theta^*(A_j))\\bigg]h(A_i) \n",
    "$$\n",
    "\n",
    "Where the plug-in estimator for the dose response function is\n",
    "$$\n",
    "\\theta_n : a \\mapsto n^{-1}\\sum_{i=1}^nQ_n(a, W_i)\n",
    "$$"
   ]
  },
  {
   "cell_type": "markdown",
   "metadata": {},
   "source": [
    "<h2>Sjoerd</h2>\n",
    "Hal Estimate doesn't use treatment as a factor?"
   ]
  },
  {
   "cell_type": "code",
   "execution_count": 3,
   "metadata": {
    "vscode": {
     "languageId": "r"
    }
   },
   "outputs": [],
   "source": [
    "library(sl3)\n",
    "\n",
    "# fast highly adaptive lasso (HAL) implementation\n",
    "# Turns out this sucks at the regression? And also does pay any attention to A?\n",
    "lrn_hal <- Lrnr_hal9001$new(max_degree = 2, num_knots = c(3,2))\n",
    "lrn_glm <- Lrnr_glm$new()\n",
    "\n",
    "regression_Qn <- make_sl3_Task(\n",
    "  data = data,\n",
    "  outcome = \"Y\",\n",
    "  covariates = c(\"W1\",\"W2\",\"A\")\n",
    ")\n",
    "\n",
    "hal_fit <- lrn_hal$train(task=regression_Qn)\n",
    "Qn_fit <- lrn_glm$train(task=regression_Qn)"
   ]
  },
  {
   "cell_type": "code",
   "execution_count": 14,
   "metadata": {
    "vscode": {
     "languageId": "r"
    }
   },
   "outputs": [
    {
     "ename": "ERROR",
     "evalue": "Error in object[[i]]: wrong arguments for subsetting an environment\n",
     "output_type": "error",
     "traceback": [
      "Error in object[[i]]: wrong arguments for subsetting an environment\nTraceback:\n",
      "1. summary(lrn_hal)",
      "2. summary.default(lrn_hal)"
     ]
    }
   ],
   "source": [
    "summary(lrn_hal)"
   ]
  },
  {
   "cell_type": "code",
   "execution_count": 12,
   "metadata": {
    "vscode": {
     "languageId": "r"
    }
   },
   "outputs": [
    {
     "data": {
      "text/html": [
       "<dl>\n",
       "\t<dt>$max_degree</dt>\n",
       "\t\t<dd>2</dd>\n",
       "\t<dt>$num_knots</dt>\n",
       "\t\t<dd><style>\n",
       ".list-inline {list-style: none; margin:0; padding: 0}\n",
       ".list-inline>li {display: inline-block}\n",
       ".list-inline>li:not(:last-child)::after {content: \"\\00b7\"; padding: 0 .5ex}\n",
       "</style>\n",
       "<ol class=list-inline><li>3</li><li>2</li></ol>\n",
       "</dd>\n",
       "\t<dt>$covariates</dt>\n",
       "\t\t<dd><style>\n",
       ".list-inline {list-style: none; margin:0; padding: 0}\n",
       ".list-inline>li {display: inline-block}\n",
       ".list-inline>li:not(:last-child)::after {content: \"\\00b7\"; padding: 0 .5ex}\n",
       "</style>\n",
       "<ol class=list-inline><li>'W1'</li><li>'W2'</li><li>'A'</li></ol>\n",
       "</dd>\n",
       "</dl>\n"
      ],
      "text/latex": [
       "\\begin{description}\n",
       "\\item[\\$max\\_degree] 2\n",
       "\\item[\\$num\\_knots] \\begin{enumerate*}\n",
       "\\item 3\n",
       "\\item 2\n",
       "\\end{enumerate*}\n",
       "\n",
       "\\item[\\$covariates] \\begin{enumerate*}\n",
       "\\item 'W1'\n",
       "\\item 'W2'\n",
       "\\item 'A'\n",
       "\\end{enumerate*}\n",
       "\n",
       "\\end{description}\n"
      ],
      "text/markdown": [
       "$max_degree\n",
       ":   2\n",
       "$num_knots\n",
       ":   1. 3\n",
       "2. 2\n",
       "\n",
       "\n",
       "\n",
       "$covariates\n",
       ":   1. 'W1'\n",
       "2. 'W2'\n",
       "3. 'A'\n",
       "\n",
       "\n",
       "\n",
       "\n",
       "\n"
      ],
      "text/plain": [
       "$max_degree\n",
       "[1] 2\n",
       "\n",
       "$num_knots\n",
       "[1] 3 2\n",
       "\n",
       "$covariates\n",
       "[1] \"W1\" \"W2\" \"A\" \n"
      ]
     },
     "metadata": {},
     "output_type": "display_data"
    }
   ],
   "source": [
    "hal_fit$params"
   ]
  },
  {
   "cell_type": "code",
   "execution_count": 5,
   "metadata": {
    "vscode": {
     "languageId": "r"
    }
   },
   "outputs": [
    {
     "data": {
      "text/plain": [
       "[1] \"Lrnr_glm_TRUE\"\n",
       "$coefficients\n",
       " intercept         W1         W2          A \n",
       " 0.1341525 -0.9722202  0.1061680 -0.3669019 \n",
       "\n",
       "$R\n",
       "          intercept         W1        W2          A\n",
       "intercept -5.477226 -0.7388918 -1.110188 -0.6802782\n",
       "W1         0.000000 -5.7408040 -3.606533 -1.1848921\n",
       "W2         0.000000  0.0000000  3.859403  0.7640043\n",
       "A          0.000000  0.0000000  0.000000 -3.1268232\n",
       "\n",
       "$rank\n",
       "[1] 4\n",
       "\n",
       "$family\n",
       "\n",
       "Family: gaussian \n",
       "Link function: identity \n",
       "\n",
       "\n",
       "$deviance\n",
       "[1] 30.14337\n",
       "\n",
       "$aic\n",
       "[1] 95.27934\n",
       "\n",
       "$null.deviance\n",
       "[1] 63.20884\n",
       "\n",
       "$iter\n",
       "[1] 2\n",
       "\n",
       "$df.residual\n",
       "[1] 26\n",
       "\n",
       "$df.null\n",
       "[1] 29\n",
       "\n",
       "$converged\n",
       "[1] TRUE\n",
       "\n",
       "$boundary\n",
       "[1] FALSE\n",
       "\n",
       "$linkinv_fun\n",
       "function (eta) \n",
       "eta\n",
       "<environment: namespace:stats>\n",
       "\n",
       "$link_fun\n",
       "function (mu) \n",
       "mu\n",
       "<environment: namespace:stats>\n",
       "\n",
       "$training_offset\n",
       "[1] FALSE\n"
      ]
     },
     "metadata": {},
     "output_type": "display_data"
    }
   ],
   "source": [
    "Qn_fit"
   ]
  },
  {
   "attachments": {},
   "cell_type": "markdown",
   "metadata": {},
   "source": [
    "To construct a nonparametric estimator for the conditional estimator function $g_0$ is a little trickier. I think we can use haldensify? Seemingly the Haldensify doesn't really return a coherent answer. \n",
    "<br>\n",
    "Below is from:\n",
    "https://tlverse.org/tlverse-handbook/sl3.html#conditional-density-estimation"
   ]
  },
  {
   "cell_type": "code",
   "execution_count": 16,
   "metadata": {
    "vscode": {
     "languageId": "r"
    }
   },
   "outputs": [
    {
     "name": "stdout",
     "output_type": "stream",
     "text": [
      "\n",
      "Iter: 1 fn: 25.6977\t Pars:  0.990272 0.009728\n",
      "Iter: 2 fn: 25.6977\t Pars:  0.990274 0.009726\n",
      "solnp--> Completed in 2 iterations\n"
     ]
    }
   ],
   "source": [
    "# semiparametric density estimator with homoscedastic errors (HOSE)\n",
    "hose_hal_lrnr <- Lrnr_density_semiparametric$new(\n",
    "    mean_learner = Lrnr_hal9001$new()\n",
    ")\n",
    "# semiparametric density estimator with heteroscedastic errors (HESE)\n",
    "hese_rf_glm_lrnr <- Lrnr_density_semiparametric$new(\n",
    "    mean_learner = Lrnr_ranger$new(),\n",
    "    var_learner = Lrnr_glm$new()\n",
    ")\n",
    "\n",
    "# SL for the conditional treatment density\n",
    "sl_dens_lrnr <- Lrnr_sl$new(\n",
    "    learners = list(hose_hal_lrnr, hese_rf_glm_lrnr),\n",
    "    metalearner = Lrnr_solnp_density$new()\n",
    ")\n",
    "\n",
    "cde_task <- make_sl3_Task(\n",
    "  data = data,\n",
    "  outcome = \"A\",\n",
    "  covariates = c(\"W1\",\"W2\")\n",
    ")\n",
    "\n",
    "g0_fit <- sl_dens_lrnr$train(cde_task)"
   ]
  },
  {
   "cell_type": "markdown",
   "metadata": {},
   "source": [
    "<strong> Sjoerd </strong> Likelihood is greater than 1? Or maybe not?"
   ]
  },
  {
   "cell_type": "code",
   "execution_count": 17,
   "metadata": {
    "vscode": {
     "languageId": "r"
    }
   },
   "outputs": [
    {
     "data": {
      "text/html": [
       "<strong>$likelihood</strong> = <style>\n",
       ".list-inline {list-style: none; margin:0; padding: 0}\n",
       ".list-inline>li {display: inline-block}\n",
       ".list-inline>li:not(:last-child)::after {content: \"\\00b7\"; padding: 0 .5ex}\n",
       "</style>\n",
       "<ol class=list-inline><li>0.664236449028263</li><li>0.482236461112941</li><li>0.591477177890397</li><li>0.639993639299006</li><li>0.546265295730579</li><li>0.405308939321392</li><li>0.39037941869013</li><li>0.211416911537264</li><li>0.642989121214091</li><li>0.584335799403168</li><li>0.596455675167081</li><li>0.293953776280713</li><li>0.648839560861011</li><li>0.328713777783937</li><li>0.673543593046515</li><li>0.589784787293648</li><li>0.574763862381624</li><li>0.664417862908868</li><li>0.58754941207196</li><li>0.551234215943422</li><li>0.531423326629351</li><li>0.56378708302843</li><li>0.368404046286743</li><li>0.607238377350164</li><li>0.585084356419222</li><li>0.559993087529781</li><li>0.676050576738113</li><li>0.658915294126563</li><li>0.640961251102632</li><li>0.235323573479398</li></ol>\n"
      ],
      "text/latex": [
       "\\textbf{\\$likelihood} = \\begin{enumerate*}\n",
       "\\item 0.664236449028263\n",
       "\\item 0.482236461112941\n",
       "\\item 0.591477177890397\n",
       "\\item 0.639993639299006\n",
       "\\item 0.546265295730579\n",
       "\\item 0.405308939321392\n",
       "\\item 0.39037941869013\n",
       "\\item 0.211416911537264\n",
       "\\item 0.642989121214091\n",
       "\\item 0.584335799403168\n",
       "\\item 0.596455675167081\n",
       "\\item 0.293953776280713\n",
       "\\item 0.648839560861011\n",
       "\\item 0.328713777783937\n",
       "\\item 0.673543593046515\n",
       "\\item 0.589784787293648\n",
       "\\item 0.574763862381624\n",
       "\\item 0.664417862908868\n",
       "\\item 0.58754941207196\n",
       "\\item 0.551234215943422\n",
       "\\item 0.531423326629351\n",
       "\\item 0.56378708302843\n",
       "\\item 0.368404046286743\n",
       "\\item 0.607238377350164\n",
       "\\item 0.585084356419222\n",
       "\\item 0.559993087529781\n",
       "\\item 0.676050576738113\n",
       "\\item 0.658915294126563\n",
       "\\item 0.640961251102632\n",
       "\\item 0.235323573479398\n",
       "\\end{enumerate*}\n"
      ],
      "text/markdown": [
       "**$likelihood** = 1. 0.664236449028263\n",
       "2. 0.482236461112941\n",
       "3. 0.591477177890397\n",
       "4. 0.639993639299006\n",
       "5. 0.546265295730579\n",
       "6. 0.405308939321392\n",
       "7. 0.39037941869013\n",
       "8. 0.211416911537264\n",
       "9. 0.642989121214091\n",
       "10. 0.584335799403168\n",
       "11. 0.596455675167081\n",
       "12. 0.293953776280713\n",
       "13. 0.648839560861011\n",
       "14. 0.328713777783937\n",
       "15. 0.673543593046515\n",
       "16. 0.589784787293648\n",
       "17. 0.574763862381624\n",
       "18. 0.664417862908868\n",
       "19. 0.58754941207196\n",
       "20. 0.551234215943422\n",
       "21. 0.531423326629351\n",
       "22. 0.56378708302843\n",
       "23. 0.368404046286743\n",
       "24. 0.607238377350164\n",
       "25. 0.585084356419222\n",
       "26. 0.559993087529781\n",
       "27. 0.676050576738113\n",
       "28. 0.658915294126563\n",
       "29. 0.640961251102632\n",
       "30. 0.235323573479398\n",
       "\n",
       "\n"
      ],
      "text/plain": [
       "$likelihood\n",
       " [1] 0.6642364 0.4822365 0.5914772 0.6399936 0.5462653 0.4053089 0.3903794\n",
       " [8] 0.2114169 0.6429891 0.5843358 0.5964557 0.2939538 0.6488396 0.3287138\n",
       "[15] 0.6735436 0.5897848 0.5747639 0.6644179 0.5875494 0.5512342 0.5314233\n",
       "[22] 0.5637871 0.3684040 0.6072384 0.5850844 0.5599931 0.6760506 0.6589153\n",
       "[29] 0.6409613 0.2353236\n",
       "\n",
       "attr(,\".internal.selfref\")\n",
       "<pointer: 0x12400d0e0>"
      ]
     },
     "metadata": {},
     "output_type": "display_data"
    }
   ],
   "source": [
    "g0_fit$predict(cde_task)"
   ]
  },
  {
   "cell_type": "code",
   "execution_count": 37,
   "metadata": {
    "vscode": {
     "languageId": "r"
    }
   },
   "outputs": [
    {
     "data": {
      "image/png": "[encoded data removed]",
      "text/plain": [
       "plot without title"
      ]
     },
     "metadata": {
      "image/png": {
       "height": 420,
       "width": 420
      }
     },
     "output_type": "display_data"
    }
   ],
   "source": [
    "library(haldensify)\n",
    "\n",
    "g0_fit <- haldensify(\n",
    "  A = data$\"A\", W = c(data$\"W1\", data$\"W2\"),\n",
    "  n_bins = c(5,10), grid_type = \"equal_range\",\n",
    "  lambda_seq = exp(seq(-1, -10, length = 100)),\n",
    "  # arguments passed to hal9001::fit_hal()\n",
    "  max_degree = 3,\n",
    "  reduce_basis = 1 / sqrt(n)\n",
    ")\n",
    "\n",
    "plot(g0_fit)"
   ]
  },
  {
   "cell_type": "code",
   "execution_count": 38,
   "metadata": {
    "vscode": {
     "languageId": "r"
    }
   },
   "outputs": [
    {
     "data": {
      "text/html": [
       "<style>\n",
       ".list-inline {list-style: none; margin:0; padding: 0}\n",
       ".list-inline>li {display: inline-block}\n",
       ".list-inline>li:not(:last-child)::after {content: \"\\00b7\"; padding: 0 .5ex}\n",
       "</style>\n",
       "<ol class=list-inline><li>0.503444827705379</li><li>0.587109138065017</li><li>0.946230622269278</li><li>0.578355599716034</li><li>0.477499800096196</li><li>0.67200927314537</li><li>0.67200927314537</li><li>0.67200927314537</li><li>0.578355599716034</li><li>0.503444827705379</li><li>0.676407848981533</li><li>0.268396928122166</li><li>0.772126961638797</li><li>0.293632604752055</li><li>0.586754396348024</li><li>0.706290008060491</li><li>0.477499800096196</li><li>0.415078572982742</li><li>0.727608427666108</li><li>0.332019405512456</li><li>0.415078572982742</li><li>0.741732445037269</li><li>0.293632604752055</li><li>0.415078572982742</li><li>0.706290008060491</li><li>0.706290008060491</li><li>0.586754396348024</li><li>0.763660282151797</li><li>0.586754396348024</li><li>0.293632604752055</li></ol>\n"
      ],
      "text/latex": [
       "\\begin{enumerate*}\n",
       "\\item 0.503444827705379\n",
       "\\item 0.587109138065017\n",
       "\\item 0.946230622269278\n",
       "\\item 0.578355599716034\n",
       "\\item 0.477499800096196\n",
       "\\item 0.67200927314537\n",
       "\\item 0.67200927314537\n",
       "\\item 0.67200927314537\n",
       "\\item 0.578355599716034\n",
       "\\item 0.503444827705379\n",
       "\\item 0.676407848981533\n",
       "\\item 0.268396928122166\n",
       "\\item 0.772126961638797\n",
       "\\item 0.293632604752055\n",
       "\\item 0.586754396348024\n",
       "\\item 0.706290008060491\n",
       "\\item 0.477499800096196\n",
       "\\item 0.415078572982742\n",
       "\\item 0.727608427666108\n",
       "\\item 0.332019405512456\n",
       "\\item 0.415078572982742\n",
       "\\item 0.741732445037269\n",
       "\\item 0.293632604752055\n",
       "\\item 0.415078572982742\n",
       "\\item 0.706290008060491\n",
       "\\item 0.706290008060491\n",
       "\\item 0.586754396348024\n",
       "\\item 0.763660282151797\n",
       "\\item 0.586754396348024\n",
       "\\item 0.293632604752055\n",
       "\\end{enumerate*}\n"
      ],
      "text/markdown": [
       "1. 0.503444827705379\n",
       "2. 0.587109138065017\n",
       "3. 0.946230622269278\n",
       "4. 0.578355599716034\n",
       "5. 0.477499800096196\n",
       "6. 0.67200927314537\n",
       "7. 0.67200927314537\n",
       "8. 0.67200927314537\n",
       "9. 0.578355599716034\n",
       "10. 0.503444827705379\n",
       "11. 0.676407848981533\n",
       "12. 0.268396928122166\n",
       "13. 0.772126961638797\n",
       "14. 0.293632604752055\n",
       "15. 0.586754396348024\n",
       "16. 0.706290008060491\n",
       "17. 0.477499800096196\n",
       "18. 0.415078572982742\n",
       "19. 0.727608427666108\n",
       "20. 0.332019405512456\n",
       "21. 0.415078572982742\n",
       "22. 0.741732445037269\n",
       "23. 0.293632604752055\n",
       "24. 0.415078572982742\n",
       "25. 0.706290008060491\n",
       "26. 0.706290008060491\n",
       "27. 0.586754396348024\n",
       "28. 0.763660282151797\n",
       "29. 0.586754396348024\n",
       "30. 0.293632604752055\n",
       "\n",
       "\n"
      ],
      "text/plain": [
       " [1] 0.5034448 0.5871091 0.9462306 0.5783556 0.4774998 0.6720093 0.6720093\n",
       " [8] 0.6720093 0.5783556 0.5034448 0.6764078 0.2683969 0.7721270 0.2936326\n",
       "[15] 0.5867544 0.7062900 0.4774998 0.4150786 0.7276084 0.3320194 0.4150786\n",
       "[22] 0.7417324 0.2936326 0.4150786 0.7062900 0.7062900 0.5867544 0.7636603\n",
       "[29] 0.5867544 0.2936326"
      ]
     },
     "metadata": {},
     "output_type": "display_data"
    }
   ],
   "source": [
    "predict(g0_fit, new_A=cde_task$data$A, new_W=cde_task$data[,c(\"W1\",\"W2\")])"
   ]
  },
  {
   "cell_type": "code",
   "execution_count": 28,
   "metadata": {
    "vscode": {
     "languageId": "r"
    }
   },
   "outputs": [],
   "source": [
    "permute_data <- function(a, w = NULL){\n",
    "    copy <- data\n",
    "    copy$A <- a\n",
    "    if (!is.null(w)){\n",
    "        copy$W1 <- w[[1]]\n",
    "        copy$W2 <- w[[2]]\n",
    "    }\n",
    "    return(copy)\n",
    "}\n",
    "\n",
    "qn_prediction_treatment <- function(a){\n",
    "    task <- make_sl3_Task(\n",
    "        data = permute_data(a),\n",
    "        covariates = c(\"W1\",\"W2\",\"A\")\n",
    "    )\n",
    "}\n",
    "\n",
    "qn_prediction_counterfactual <- function(w, a){\n",
    "    task <- make_sl3_Task(\n",
    "        data = permute_data(a, w),\n",
    "        covariates = c(\"W1\",\"W2\",\"A\")\n",
    "    )\n",
    "}"
   ]
  },
  {
   "cell_type": "code",
   "execution_count": 29,
   "metadata": {
    "vscode": {
     "languageId": "r"
    }
   },
   "outputs": [
    {
     "data": {
      "text/html": [
       "-8.88178419700125e-17"
      ],
      "text/latex": [
       "-8.88178419700125e-17"
      ],
      "text/markdown": [
       "-8.88178419700125e-17"
      ],
      "text/plain": [
       "[1] -8.881784e-17"
      ]
     },
     "metadata": {},
     "output_type": "display_data"
    }
   ],
   "source": [
    "dose_response_estimator <- function(a) {\n",
    "    pred_task <- qn_prediction_treatment(a)\n",
    "    theta = mean(Qn_fit$predict(pred_task))\n",
    "    return(theta)\n",
    "}\n",
    "\n",
    "naive_psi_inner_product_estimator <- function(h) {\n",
    "    k <- numeric(n)\n",
    "    for(i in 1:n){\n",
    "        theta <- dose_response_estimator(A[i]) \n",
    "        j_sum <- sapply(1:n, function(j) dose_response_estimator(A[j])) \n",
    "        k[i] = (theta - 0 - mean(j_sum)) * h(A[i])\n",
    "    }\n",
    "    return(mean(k))\n",
    "}\n",
    "\n",
    "naive_psi_inner_product_estimator(function(x) 3) # This is surprisingly right given n=10, we're drawing from Y such that mean centered dose response is 0?"
   ]
  },
  {
   "cell_type": "code",
   "execution_count": 45,
   "metadata": {
    "vscode": {
     "languageId": "r"
    }
   },
   "outputs": [
    {
     "data": {
      "text/html": [
       "0.197719634876357"
      ],
      "text/latex": [
       "0.197719634876357"
      ],
      "text/markdown": [
       "0.197719634876357"
      ],
      "text/plain": [
       "[1] 0.1977196"
      ]
     },
     "metadata": {},
     "output_type": "display_data"
    }
   ],
   "source": [
    "dose_response_estimator(-0.4)"
   ]
  },
  {
   "attachments": {},
   "cell_type": "markdown",
   "metadata": {},
   "source": [
    "<h1>Efficient Influence Function</h1>\n",
    "Equation 15 in paper\n",
    "\n",
    "$$\n",
    "\\phi_{n,\\theta^*}(w, a, y; h) = \\bigg[\n",
    "    \\frac{n^{-1}\\sum_{i=1}^n g_n(a|W_i)}{g_n(a|w)}\n",
    "    {y - Q_n(w,a)}\n",
    "\\bigg]\n",
    "\\bigg\\{\n",
    "h(a) - n^{-1}\\sum_{i=1}^nh(A_i)\n",
    "\\bigg\\}+\\\\\n",
    "n^{-1}\\sum_{i=1}^nQ_n(w,A_i)\\bigg\\{\n",
    "h(A_i)-n^{-1}\\sum_{j=1}^nh(A_j)\n",
    "\\bigg\\}-\\\\\n",
    "n^{-1}\\sum_{i=1}^n\\{Y_i-Q_n(W_i,A_i)\\}Z_n(W_i,A_i; h)\n",
    "$$\n",
    "\n",
    "Where $\\theta_n$ is the plug in estimator the dose response function and \n",
    "\n",
    "$$\n",
    "Z_n(w, a; h) := \\frac{n^{-1}\\sum_{i=1}^ng_n(a|W_i)}{g_n(a|w)}\\bigg\\{ h(a)-n^{-1}\\sum_{i=1}^nh(A_i)\n",
    "    \\bigg\\}\n",
    "$$"
   ]
  },
  {
   "cell_type": "markdown",
   "metadata": {},
   "source": [
    "<h2>Sjoerd</h2> It predicts the same "
   ]
  },
  {
   "cell_type": "code",
   "execution_count": 34,
   "metadata": {
    "vscode": {
     "languageId": "r"
    }
   },
   "outputs": [
    {
     "data": {
      "text/html": [
       "<table class=\"dataframe\">\n",
       "<caption>A data.frame: 3 x 3</caption>\n",
       "<thead>\n",
       "\t<tr><th scope=col>A</th><th scope=col>W1</th><th scope=col>W2</th></tr>\n",
       "\t<tr><th scope=col>&lt;dbl&gt;</th><th scope=col>&lt;dbl&gt;</th><th scope=col>&lt;dbl&gt;</th></tr>\n",
       "</thead>\n",
       "<tbody>\n",
       "\t<tr><td> 0.24</td><td>-0.10</td><td> 0.24</td></tr>\n",
       "\t<tr><td> 0.60</td><td>-0.30</td><td>-0.10</td></tr>\n",
       "\t<tr><td>-0.15</td><td> 0.12</td><td> 0.15</td></tr>\n",
       "</tbody>\n",
       "</table>\n"
      ],
      "text/latex": [
       "A data.frame: 3 x 3\n",
       "\\begin{tabular}{lll}\n",
       " A & W1 & W2\\\\\n",
       " <dbl> & <dbl> & <dbl>\\\\\n",
       "\\hline\n",
       "\t  0.24 & -0.10 &  0.24\\\\\n",
       "\t  0.60 & -0.30 & -0.10\\\\\n",
       "\t -0.15 &  0.12 &  0.15\\\\\n",
       "\\end{tabular}\n"
      ],
      "text/markdown": [
       "\n",
       "A data.frame: 3 x 3\n",
       "\n",
       "| A &lt;dbl&gt; | W1 &lt;dbl&gt; | W2 &lt;dbl&gt; |\n",
       "|---|---|---|\n",
       "|  0.24 | -0.10 |  0.24 |\n",
       "|  0.60 | -0.30 | -0.10 |\n",
       "| -0.15 |  0.12 |  0.15 |\n",
       "\n"
      ],
      "text/plain": [
       "  A     W1    W2   \n",
       "1  0.24 -0.10  0.24\n",
       "2  0.60 -0.30 -0.10\n",
       "3 -0.15  0.12  0.15"
      ]
     },
     "metadata": {},
     "output_type": "display_data"
    }
   ],
   "source": [
    "A <- c(0.24, 0.6, -0.15)\n",
    "W1 <- c(-0.1, -0.3, 0.12)\n",
    "W2 <- c(0.24, -0.1, 0.15)\n",
    "df <- data.frame(A, W1, W2)\n",
    "df"
   ]
  },
  {
   "cell_type": "code",
   "execution_count": 35,
   "metadata": {
    "vscode": {
     "languageId": "r"
    }
   },
   "outputs": [
    {
     "data": {
      "text/html": [
       "<style>\n",
       ".list-inline {list-style: none; margin:0; padding: 0}\n",
       ".list-inline>li {display: inline-block}\n",
       ".list-inline>li:not(:last-child)::after {content: \"\\00b7\"; padding: 0 .5ex}\n",
       "</style>\n",
       "<ol class=list-inline><li>2.62763431259981</li><li>2.62763431259981</li><li>2.62763431259981</li></ol>\n"
      ],
      "text/latex": [
       "\\begin{enumerate*}\n",
       "\\item 2.62763431259981\n",
       "\\item 2.62763431259981\n",
       "\\item 2.62763431259981\n",
       "\\end{enumerate*}\n"
      ],
      "text/markdown": [
       "1. 2.62763431259981\n",
       "2. 2.62763431259981\n",
       "3. 2.62763431259981\n",
       "\n",
       "\n"
      ],
      "text/plain": [
       "[1] 2.627634 2.627634 2.627634"
      ]
     },
     "metadata": {},
     "output_type": "display_data"
    }
   ],
   "source": [
    "predict(g0_fit, new_A = df$A, new_W= df[,c(\"W1\",\"W2\")])"
   ]
  },
  {
   "cell_type": "markdown",
   "metadata": {},
   "source": [
    "<h2>Sjoerd</h2> By nature of the above predicting the same CDE the below equations then make no sense, see below same value for all inputs."
   ]
  },
  {
   "cell_type": "code",
   "execution_count": 39,
   "metadata": {
    "vscode": {
     "languageId": "r"
    }
   },
   "outputs": [
    {
     "name": "stdout",
     "output_type": "stream",
     "text": [
      "[1] 1.056917\n"
     ]
    },
    {
     "data": {
      "text/html": [
       "<style>\n",
       ".list-inline {list-style: none; margin:0; padding: 0}\n",
       ".list-inline>li {display: inline-block}\n",
       ".list-inline>li:not(:last-child)::after {content: \"\\00b7\"; padding: 0 .5ex}\n",
       "</style>\n",
       "<ol class=list-inline><li>0.0872996947937046</li><li>0.0872996947937046</li><li>0.0872996947937046</li><li>0.0872996947937046</li><li>0.0872996947937046</li><li>0.0872996947937046</li><li>0.0872996947937046</li><li>0.0872996947937046</li><li>0.0872996947937046</li><li>0.0872996947937046</li><li>0.0872996947937046</li><li>0.0872996947937046</li><li>0.0872996947937046</li><li>0.0872996947937046</li><li>0.0872996947937046</li><li>0.0872996947937046</li><li>0.0872996947937046</li><li>0.0872996947937046</li><li>0.0872996947937046</li><li>0.0872996947937046</li><li>0.0872996947937046</li><li>0.0872996947937046</li><li>0.0872996947937046</li><li>0.0872996947937046</li><li>0.0872996947937046</li><li>0.0872996947937046</li><li>0.0872996947937046</li><li>0.0872996947937046</li><li>0.0872996947937046</li><li>0.0872996947937046</li></ol>\n"
      ],
      "text/latex": [
       "\\begin{enumerate*}\n",
       "\\item 0.0872996947937046\n",
       "\\item 0.0872996947937046\n",
       "\\item 0.0872996947937046\n",
       "\\item 0.0872996947937046\n",
       "\\item 0.0872996947937046\n",
       "\\item 0.0872996947937046\n",
       "\\item 0.0872996947937046\n",
       "\\item 0.0872996947937046\n",
       "\\item 0.0872996947937046\n",
       "\\item 0.0872996947937046\n",
       "\\item 0.0872996947937046\n",
       "\\item 0.0872996947937046\n",
       "\\item 0.0872996947937046\n",
       "\\item 0.0872996947937046\n",
       "\\item 0.0872996947937046\n",
       "\\item 0.0872996947937046\n",
       "\\item 0.0872996947937046\n",
       "\\item 0.0872996947937046\n",
       "\\item 0.0872996947937046\n",
       "\\item 0.0872996947937046\n",
       "\\item 0.0872996947937046\n",
       "\\item 0.0872996947937046\n",
       "\\item 0.0872996947937046\n",
       "\\item 0.0872996947937046\n",
       "\\item 0.0872996947937046\n",
       "\\item 0.0872996947937046\n",
       "\\item 0.0872996947937046\n",
       "\\item 0.0872996947937046\n",
       "\\item 0.0872996947937046\n",
       "\\item 0.0872996947937046\n",
       "\\end{enumerate*}\n"
      ],
      "text/markdown": [
       "1. 0.0872996947937046\n",
       "2. 0.0872996947937046\n",
       "3. 0.0872996947937046\n",
       "4. 0.0872996947937046\n",
       "5. 0.0872996947937046\n",
       "6. 0.0872996947937046\n",
       "7. 0.0872996947937046\n",
       "8. 0.0872996947937046\n",
       "9. 0.0872996947937046\n",
       "10. 0.0872996947937046\n",
       "11. 0.0872996947937046\n",
       "12. 0.0872996947937046\n",
       "13. 0.0872996947937046\n",
       "14. 0.0872996947937046\n",
       "15. 0.0872996947937046\n",
       "16. 0.0872996947937046\n",
       "17. 0.0872996947937046\n",
       "18. 0.0872996947937046\n",
       "19. 0.0872996947937046\n",
       "20. 0.0872996947937046\n",
       "21. 0.0872996947937046\n",
       "22. 0.0872996947937046\n",
       "23. 0.0872996947937046\n",
       "24. 0.0872996947937046\n",
       "25. 0.0872996947937046\n",
       "26. 0.0872996947937046\n",
       "27. 0.0872996947937046\n",
       "28. 0.0872996947937046\n",
       "29. 0.0872996947937046\n",
       "30. 0.0872996947937046\n",
       "\n",
       "\n"
      ],
      "text/plain": [
       " [1] 0.08729969 0.08729969 0.08729969 0.08729969 0.08729969 0.08729969\n",
       " [7] 0.08729969 0.08729969 0.08729969 0.08729969 0.08729969 0.08729969\n",
       "[13] 0.08729969 0.08729969 0.08729969 0.08729969 0.08729969 0.08729969\n",
       "[19] 0.08729969 0.08729969 0.08729969 0.08729969 0.08729969 0.08729969\n",
       "[25] 0.08729969 0.08729969 0.08729969 0.08729969 0.08729969 0.08729969"
      ]
     },
     "metadata": {},
     "output_type": "display_data"
    }
   ],
   "source": [
    "zn_equation <- function(w, a, h){\n",
    "    a <- numeric(n) + a\n",
    "    A <- data[,\"A\"]\n",
    "    W <- data[,c(\"W1\",\"W2\")]\n",
    "\n",
    "    # Haldenisfy prediction seem way off... TODO: Check Haldensify\n",
    "    # Why the denominator repeat then take avg? Haldensify won't predict for dim(1)...\n",
    "    first_term <- mean(predict(g0_fit, new_A = a, new_W = W)) / mean(predict(g0_fit, new_A = a, new_W = w))\n",
    "    print(first_term)\n",
    "\n",
    "    second_term <- h(a) - mean(sapply(1:n, function (i) h(A[i])))\n",
    "    return((first_term * second_term))\n",
    "}\n",
    "\n",
    "zn_equation(c(0.1, 0.2), 0.1, function(x) x)"
   ]
  },
  {
   "cell_type": "code",
   "execution_count": 40,
   "metadata": {
    "vscode": {
     "languageId": "r"
    }
   },
   "outputs": [
    {
     "name": "stdout",
     "output_type": "stream",
     "text": [
      "[1] 1.051018\n",
      "[1] 0.8072837\n",
      "[1] 1.040155\n",
      "[1] 1.042266\n",
      "[1] 1.065119\n",
      "[1] 0.7905902\n",
      "[1] 0.7905902\n",
      "[1] 0.7905902\n",
      "[1] 1.042266\n",
      "[1] 1.051018\n",
      "[1] 1.036409\n",
      "[1] 1.043878\n",
      "[1] 1.056287\n",
      "[1] 1.040616\n",
      "[1] 1.045194\n",
      "[1] 1.0516\n",
      "[1] 1.065119\n",
      "[1] 1.065657\n",
      "[1] 1.050573\n",
      "[1] 1.074543\n",
      "[1] 1.065657\n",
      "[1] 1.047098\n",
      "[1] 1.040616\n",
      "[1] 1.065657\n",
      "[1] 1.0516\n",
      "[1] 1.0516\n",
      "[1] 1.045194\n",
      "[1] 1.056686\n",
      "[1] 1.045194\n",
      "[1] 1.040616\n"
     ]
    },
    {
     "data": {
      "text/html": [
       "0.0555372206008507"
      ],
      "text/latex": [
       "0.0555372206008507"
      ],
      "text/markdown": [
       "0.0555372206008507"
      ],
      "text/plain": [
       "[1] 0.05553722"
      ]
     },
     "metadata": {},
     "output_type": "display_data"
    }
   ],
   "source": [
    "efficient_influence_function <- function(w, a, y, h){\n",
    "    A <- data[,\"A\"]\n",
    "    W <- data[,c(\"W1\",\"W2\")]\n",
    "    Y <- data[,\"Y\"]\n",
    "\n",
    "    first_line_term1 <- (mean(predict(g0_fit, new_A = A, new_W = W)) / mean(predict(g0_fit, new_A = c(a, a), new_W = c(w, w))) * y ) - mean(Qn_fit$predict(qn_prediction_counterfactual(w, a)))\n",
    "    first_line_term2 <- h(a) - mean(sapply(1:n, function (i) h(A[i])))\n",
    "    first_line <- first_line_term1 * first_line_term2\n",
    "\n",
    "    second_line <- numeric(n)\n",
    "    for(i in 1:n){\n",
    "        second_line[i] <- mean(Qn_fit$predict(qn_prediction_counterfactual(w, A[i]))) * (h(A[i]) - mean(sapply(1:n, function(j) h(A[j]))))\n",
    "    }\n",
    "    second_line <- mean(second_line)\n",
    "\n",
    "    third_line <- numeric(n)\n",
    "    for(i in 1:n){\n",
    "        third_line[i] <- (Y[i] - mean(Qn_fit$predict(qn_prediction_counterfactual(W[i, ], A[i])))) * zn_equation(W[i, ], A[i], h)\n",
    "    }\n",
    "    third_line <- mean(third_line)\n",
    "\n",
    "    first_line + second_line - third_line\n",
    "}\n",
    "\n",
    "efficient_influence_function(c(0.1,0.2), 0.5, 0.2, dose_response_estimator)"
   ]
  },
  {
   "cell_type": "code",
   "execution_count": 205,
   "metadata": {
    "vscode": {
     "languageId": "r"
    }
   },
   "outputs": [],
   "source": [
    "library(testthat)\n",
    "\n",
    "# test_that(\"EIC Works\", {\n",
    "#     w <- c(1, 2, 3)\n",
    "#     a <- c(0, 1, 1)\n",
    "#     y <- c(1, 2, 3)\n",
    "#     h <- function(x) {x * x}\n",
    "#     EIC_computed <- efficient_influence_function(w, a, y, h)\n",
    "#     EIC_expected <- c(2, 4, 6)\n",
    "# \n",
    "#     expect_equal(EIC_computed, EIC_expected)\n",
    "# })"
   ]
  },
  {
   "attachments": {},
   "cell_type": "markdown",
   "metadata": {},
   "source": [
    "<h1>Construction of H</h1>"
   ]
  },
  {
   "attachments": {},
   "cell_type": "markdown",
   "metadata": {},
   "source": [
    "Retrospect: I Think I may have defined these slightly wrong. Is $\\eta_d : a \\mapsto \\sqrt{n}sin(\\pi d a)$?"
   ]
  },
  {
   "attachments": {},
   "cell_type": "markdown",
   "metadata": {},
   "source": [
    "$$\n",
    "\\eta_{2d-1} : a \\mapsto \\sqrt{2}\\cos (2\\pi d a)\\\\\n",
    "\\eta_{2d} : a \\mapsto \\sqrt{2}\\sin (2\\pi d a) \\\\\n",
    "\\gamma_{2d-1} = \\gamma_{2d} = (2\\pi d )^{-4}\n",
    "$$"
   ]
  },
  {
   "attachments": {},
   "cell_type": "markdown",
   "metadata": {},
   "source": [
    "For implementation reasons defining $\\eta$ is a lot easier, even if it's cumbersome to do so in R."
   ]
  },
  {
   "cell_type": "code",
   "execution_count": 46,
   "metadata": {
    "vscode": {
     "languageId": "r"
    }
   },
   "outputs": [
    {
     "data": {
      "text/html": [
       "'run'"
      ],
      "text/latex": [
       "'run'"
      ],
      "text/markdown": [
       "'run'"
      ],
      "text/plain": [
       "[1] \"run\""
      ]
     },
     "metadata": {},
     "output_type": "display_data"
    }
   ],
   "source": [
    "setClass(\"eta\",\n",
    "    slots = c(\n",
    "        d = \"numeric\"\n",
    "    ), \n",
    "    prototype = list(\n",
    "        d = 1\n",
    "    )\n",
    ")\n",
    "\n",
    "# Define the \"calculate\" method for the \"eta\" class\n",
    "setGeneric(\"run\", function(object, a) standardGeneric(\"run\"))\n",
    "\n",
    "setMethod(\"run\", \"eta\", function(object, a){\n",
    "    if (object@d %% 2 == 0) {\n",
    "        return(sqrt(2) * sin(pi * object@d * a))\n",
    "    } else {\n",
    "        return(sqrt(2) * cos(pi * object@d * a))\n",
    "    }\n",
    "})"
   ]
  },
  {
   "cell_type": "code",
   "execution_count": 47,
   "metadata": {
    "vscode": {
     "languageId": "r"
    }
   },
   "outputs": [
    {
     "data": {
      "text/html": [
       "<table class=\"dataframe\">\n",
       "<caption>A matrix: 5 x 5 of type dbl</caption>\n",
       "<tbody>\n",
       "\t<tr><td>97.40909</td><td>   0.000</td><td>   0.000</td><td>    0.00</td><td>    0.00</td></tr>\n",
       "\t<tr><td> 0.00000</td><td>1558.545</td><td>   0.000</td><td>    0.00</td><td>    0.00</td></tr>\n",
       "\t<tr><td> 0.00000</td><td>   0.000</td><td>7890.136</td><td>    0.00</td><td>    0.00</td></tr>\n",
       "\t<tr><td> 0.00000</td><td>   0.000</td><td>   0.000</td><td>24936.73</td><td>    0.00</td></tr>\n",
       "\t<tr><td> 0.00000</td><td>   0.000</td><td>   0.000</td><td>    0.00</td><td>60880.68</td></tr>\n",
       "</tbody>\n",
       "</table>\n"
      ],
      "text/latex": [
       "A matrix: 5 x 5 of type dbl\n",
       "\\begin{tabular}{lllll}\n",
       "\t 97.40909 &    0.000 &    0.000 &     0.00 &     0.00\\\\\n",
       "\t  0.00000 & 1558.545 &    0.000 &     0.00 &     0.00\\\\\n",
       "\t  0.00000 &    0.000 & 7890.136 &     0.00 &     0.00\\\\\n",
       "\t  0.00000 &    0.000 &    0.000 & 24936.73 &     0.00\\\\\n",
       "\t  0.00000 &    0.000 &    0.000 &     0.00 & 60880.68\\\\\n",
       "\\end{tabular}\n"
      ],
      "text/markdown": [
       "\n",
       "A matrix: 5 x 5 of type dbl\n",
       "\n",
       "| 97.40909 |    0.000 |    0.000 |     0.00 |     0.00 |\n",
       "|  0.00000 | 1558.545 |    0.000 |     0.00 |     0.00 |\n",
       "|  0.00000 |    0.000 | 7890.136 |     0.00 |     0.00 |\n",
       "|  0.00000 |    0.000 |    0.000 | 24936.73 |     0.00 |\n",
       "|  0.00000 |    0.000 |    0.000 |     0.00 | 60880.68 |\n",
       "\n"
      ],
      "text/plain": [
       "     [,1]     [,2]     [,3]     [,4]     [,5]    \n",
       "[1,] 97.40909    0.000    0.000     0.00     0.00\n",
       "[2,]  0.00000 1558.545    0.000     0.00     0.00\n",
       "[3,]  0.00000    0.000 7890.136     0.00     0.00\n",
       "[4,]  0.00000    0.000    0.000 24936.73     0.00\n",
       "[5,]  0.00000    0.000    0.000     0.00 60880.68"
      ]
     },
     "metadata": {},
     "output_type": "display_data"
    }
   ],
   "source": [
    "D <- 5\n",
    "D_vector <- seq(1, D)\n",
    "\n",
    "gamma_fn <- function(d){\n",
    "    (pi * d)^(-4)\n",
    "}\n",
    "\n",
    "c <- numeric(D)\n",
    "\n",
    "gamma <- gamma_fn(D_vector)\n",
    "gamma_matrix <- diag(1 / gamma) # These numbers seem awfully large? \n",
    "gamma_matrix"
   ]
  },
  {
   "attachments": {},
   "cell_type": "markdown",
   "metadata": {},
   "source": [
    "For now we'll use $\\psi_{n, \\theta^*}(\\eta_d)$ using the naive plug in estimator. As $\\eta_d$ is eigenfunction decomopistion of function $h$. We define for any $h$\n",
    "\n",
    "$$\n",
    "\\psi_n(h)= \\sum_{d=1}^Dc_d\\psi_n(\\eta_d)\n",
    "\n",
    "$$"
   ]
  },
  {
   "attachments": {},
   "cell_type": "markdown",
   "metadata": {},
   "source": [
    "V is a $D\\times D$ matrix, as I think can be seen as the covariance matrix between $(d_1, d_2)$\n",
    "\n",
    "$$\n",
    "V_{d_1,d_2}= n^{-1}\\sum_{i=1}^n \\bigg\\{ \n",
    "    \\eta_{d_1}(A_i)-n^{-1}\\sum_{j=1}^n\\eta_{d_1}A(j)\n",
    "\\bigg\\}\n",
    "\\bigg\\{ \n",
    "    \\eta_{d_2}(A_i)-n^{-1}\\sum_{j=1}^n\\eta_{d_2}A(j)\n",
    "\\bigg\\}\n",
    "$$"
   ]
  },
  {
   "cell_type": "markdown",
   "metadata": {},
   "source": [
    "<h2>Sjoerd</h2>\n",
    "\n",
    "Visualisation of $U(\\theta^*)^T\\bold c$\n",
    "$$\n",
    "\\underbrace{\n",
    "\\begin{bmatrix}\n",
    "\\psi(\\eta_1)\\\\\n",
    "\\psi(\\eta_2)\\\\\n",
    "... \\\\\n",
    "\\psi(\\eta_D)\n",
    "\\end{bmatrix}}_{U^{(m)}} \\cdot \\begin{bmatrix}\n",
    "c_1 & c_2 & ... & c_D\n",
    "\\end{bmatrix} \\\\\n",
    "\n",
    "V = \\begin{bmatrix}\n",
    "\\text{cov}(\\eta_1,\\eta_1) & . & . & \\text{cov}(\\eta_1,\\eta_D) \\\\\n",
    "& & & .\\\\\n",
    "& & & .\\\\\n",
    "& & & \\text{cov}(\\eta_D,\\eta_D)\n",
    "\\end{bmatrix},\n",
    "\n",
    "\\Gamma = \\begin{bmatrix}\n",
    "\\frac{1}{\\gamma_1} \\\\\n",
    "& \\frac{1}{\\gamma_2} \\\\\n",
    "& & ... \\\\\n",
    "& & & \\frac{1}{\\gamma_d}\n",
    "\\end{bmatrix},\n",
    "$$\n",
    "\n"
   ]
  },
  {
   "cell_type": "code",
   "execution_count": 49,
   "metadata": {
    "vscode": {
     "languageId": "r"
    }
   },
   "outputs": [
    {
     "data": {
      "text/html": [
       "<table class=\"dataframe\">\n",
       "<caption>A matrix: 5 x 5 of type dbl</caption>\n",
       "<tbody>\n",
       "\t<tr><td> 0.984370480</td><td>-0.02382287</td><td>-0.04458552</td><td>-0.08060779</td><td>-0.009338828</td></tr>\n",
       "\t<tr><td>-0.023822869</td><td> 1.02895600</td><td>-0.05678492</td><td>-0.03524670</td><td> 0.047930377</td></tr>\n",
       "\t<tr><td>-0.044585524</td><td>-0.05678492</td><td> 1.01961718</td><td> 0.02410751</td><td> 0.125834281</td></tr>\n",
       "\t<tr><td>-0.080607794</td><td>-0.03524670</td><td> 0.02410751</td><td> 0.85853620</td><td> 0.003864550</td></tr>\n",
       "\t<tr><td>-0.009338828</td><td> 0.04793038</td><td> 0.12583428</td><td> 0.00386455</td><td> 1.238647759</td></tr>\n",
       "</tbody>\n",
       "</table>\n"
      ],
      "text/latex": [
       "A matrix: 5 x 5 of type dbl\n",
       "\\begin{tabular}{lllll}\n",
       "\t  0.984370480 & -0.02382287 & -0.04458552 & -0.08060779 & -0.009338828\\\\\n",
       "\t -0.023822869 &  1.02895600 & -0.05678492 & -0.03524670 &  0.047930377\\\\\n",
       "\t -0.044585524 & -0.05678492 &  1.01961718 &  0.02410751 &  0.125834281\\\\\n",
       "\t -0.080607794 & -0.03524670 &  0.02410751 &  0.85853620 &  0.003864550\\\\\n",
       "\t -0.009338828 &  0.04793038 &  0.12583428 &  0.00386455 &  1.238647759\\\\\n",
       "\\end{tabular}\n"
      ],
      "text/markdown": [
       "\n",
       "A matrix: 5 x 5 of type dbl\n",
       "\n",
       "|  0.984370480 | -0.02382287 | -0.04458552 | -0.08060779 | -0.009338828 |\n",
       "| -0.023822869 |  1.02895600 | -0.05678492 | -0.03524670 |  0.047930377 |\n",
       "| -0.044585524 | -0.05678492 |  1.01961718 |  0.02410751 |  0.125834281 |\n",
       "| -0.080607794 | -0.03524670 |  0.02410751 |  0.85853620 |  0.003864550 |\n",
       "| -0.009338828 |  0.04793038 |  0.12583428 |  0.00386455 |  1.238647759 |\n",
       "\n"
      ],
      "text/plain": [
       "     [,1]         [,2]        [,3]        [,4]        [,5]        \n",
       "[1,]  0.984370480 -0.02382287 -0.04458552 -0.08060779 -0.009338828\n",
       "[2,] -0.023822869  1.02895600 -0.05678492 -0.03524670  0.047930377\n",
       "[3,] -0.044585524 -0.05678492  1.01961718  0.02410751  0.125834281\n",
       "[4,] -0.080607794 -0.03524670  0.02410751  0.85853620  0.003864550\n",
       "[5,] -0.009338828  0.04793038  0.12583428  0.00386455  1.238647759"
      ]
     },
     "metadata": {},
     "output_type": "display_data"
    }
   ],
   "source": [
    "# Sum j -> n \n",
    "second_term_fn <- function(A, d){\n",
    "    agg <- numeric(n)\n",
    "    eta <- new(\"eta\", d = d)\n",
    "    for(j in 1:n){\n",
    "        run(eta, A[j])\n",
    "    }\n",
    "    return(mean(agg))\n",
    "}\n",
    "\n",
    "v_elem <- function(d1, d2){\n",
    "    A = data[,\"A\"]\n",
    "    agg <- numeric(n)\n",
    "    eta_d1 <- new(\"eta\", d = d1) \n",
    "    eta_d2 <- new(\"eta\", d = d2)\n",
    "    for (i in 1:n){\n",
    "        d1_bracket <- run(eta_d1, A[i]) - second_term_fn(A, d1) \n",
    "        d2_bracket <- run(eta_d2, A[i]) - second_term_fn(A, d2)\n",
    "        agg[i] <- d1_bracket * d2_bracket\n",
    "    }\n",
    "    return(mean(agg))\n",
    "}\n",
    "\n",
    "\n",
    "V <- matrix(0, nrow = D, ncol = D)\n",
    "for (l in 1:D){\n",
    "    V[l, ] <- sapply(1:D, function(k) v_elem(l, k)) # Slightly wasteful could leverage symmetry\n",
    "}\n",
    "\n",
    "V"
   ]
  },
  {
   "attachments": {},
   "cell_type": "markdown",
   "metadata": {},
   "source": [
    "We can express eigendecompistion sum as a vector product $U^Tc$\n",
    "\n",
    "We can therefore optimise for $\\bold c_n$\n",
    "(<em>What is meant by less than $\\gamma$, it's a vector but is being treated like a scalar?</em>\n",
    "$$\n",
    "    \\bold c_n := \\arg \\max \\big\\{ U(\\theta^*)^Tc: c^TVc=1, c^T\\Gamma c \\leq \\gamma \\big\\}\n",
    "$$\n",
    "\n",
    "We first define $U(\\theta^*)$\n",
    "$$\n",
    "    \\begin{bmatrix}\n",
    "        \\psi(\\eta_1) & \\psi(\\eta_2) & ... & \\psi(\\eta_D)\n",
    "    \\end{bmatrix}\n",
    "$$\n",
    "\n",
    "NB: We redefine the estimator to handle the eta class, instead of a typical functional. These next two cells could become very expensive to run."
   ]
  },
  {
   "cell_type": "code",
   "execution_count": 263,
   "metadata": {
    "vscode": {
     "languageId": "r"
    }
   },
   "outputs": [],
   "source": [
    "naive_psi_inner_product_estimator <- function(eta) {\n",
    "    k <- numeric(n)\n",
    "    for(i in 1:n){\n",
    "        theta <- dose_response_estimator(A[i]) \n",
    "        j_sum <- sapply(1:n, function(j) dose_response_estimator(A[j])) \n",
    "        k[i] = (theta - 0 - mean(j_sum)) * run(eta, A[i]) # Replaces h(A[i])\n",
    "    }\n",
    "    return(mean(k))\n",
    "}"
   ]
  },
  {
   "cell_type": "code",
   "execution_count": 290,
   "metadata": {
    "vscode": {
     "languageId": "r"
    }
   },
   "outputs": [
    {
     "data": {
      "text/html": [
       "<style>\n",
       ".list-inline {list-style: none; margin:0; padding: 0}\n",
       ".list-inline>li {display: inline-block}\n",
       ".list-inline>li:not(:last-child)::after {content: \"\\00b7\"; padding: 0 .5ex}\n",
       "</style>\n",
       "<ol class=list-inline><li>0.0147394221202591</li><li>-0.157029875933634</li><li>0.0798629354813131</li><li>-0.0433208879587099</li><li>0.05115493552776</li></ol>\n"
      ],
      "text/latex": [
       "\\begin{enumerate*}\n",
       "\\item 0.0147394221202591\n",
       "\\item -0.157029875933634\n",
       "\\item 0.0798629354813131\n",
       "\\item -0.0433208879587099\n",
       "\\item 0.05115493552776\n",
       "\\end{enumerate*}\n"
      ],
      "text/markdown": [
       "1. 0.0147394221202591\n",
       "2. -0.157029875933634\n",
       "3. 0.0798629354813131\n",
       "4. -0.0433208879587099\n",
       "5. 0.05115493552776\n",
       "\n",
       "\n"
      ],
      "text/plain": [
       "[1]  0.01473942 -0.15702988  0.07986294 -0.04332089  0.05115494"
      ]
     },
     "metadata": {},
     "output_type": "display_data"
    }
   ],
   "source": [
    "U <- sapply(1:D, function(d) naive_psi_inner_product_estimator(new(\"eta\", d=d)))\n",
    "U"
   ]
  },
  {
   "attachments": {},
   "cell_type": "markdown",
   "metadata": {},
   "source": [
    "Using the KKT conditions the Lagrange multipliers are defined as \n",
    "\n",
    "Where $\\lambda_{2,n}$ satisfies:\n",
    "$$\n",
    "\\frac{\n",
    "    U(\\theta^*)^T(V+\\lambda_{2,n}\\Gamma)^{-1}\\Gamma(V+\\lambda_{2,n}\\Gamma)^{-1}U(\\theta^*)\n",
    "}{\n",
    "    U(\\theta^*)^T(V+\\lambda_{2,n}\\Gamma)^{-1}V(V+\\lambda_{2,n}\\Gamma)^{-1}U(\\theta^*)\n",
    "}=\\gamma\n",
    "$$\n",
    "\n",
    "and \n",
    "$$\n",
    "    \\lambda_{1,n} = \\bigg\\{ U(\\theta^*)^T(V+\\lambda_{2,n}\\Gamma)^{-1}V(V+\\lambda_{2,n}\\Gamma)^{-1}U(\\theta^*)\\bigg\\}^{1/2}\n",
    "$$"
   ]
  },
  {
   "cell_type": "code",
   "execution_count": 291,
   "metadata": {
    "vscode": {
     "languageId": "r"
    }
   },
   "outputs": [
    {
     "name": "stdout",
     "output_type": "stream",
     "text": [
      "[1] 0.04159561\n",
      "            [,1]\n",
      "[1,] 0.003696956\n"
     ]
    }
   ],
   "source": [
    "lambda_2_eq <- function(lambda){\n",
    "    inv_term <- solve(V + lambda * gamma_matrix)\n",
    "    numerator <- t(U) %*% inv_term %*% gamma_matrix %*% inv_term %*% U\n",
    "    denominator <- t(U) %*% inv_term %*% V %*% inv_term %*% U\n",
    "    return((numerator) - gamma[1]) # This is Wrong!!!\n",
    "}\n",
    "\n",
    "lambda_2 <- uniroot(lambda_2_eq, interval = c(0, 100))$root\n",
    "print(lambda_2)\n",
    "\n",
    "lambda_1_inv_term <- solve(V + lambda_2 * gamma_matrix)\n",
    "lambda_1 <- sqrt(t(U) %*% lambda_1_inv_term %*% V %*% lambda_1_inv_term %*% U)\n",
    "\n",
    "print(lambda_1)"
   ]
  },
  {
   "attachments": {},
   "cell_type": "markdown",
   "metadata": {},
   "source": [
    "We then express $\\Psi_n(\\mathcal{H}_\\kappa)$ as\n",
    "\n",
    "$$\n",
    "\\Psi_{n,\\theta^*}(\\mathcal{H}_\\kappa)=\\lambda^{-1}_{1,n}U(\\theta^*)^T(V+\\lambda_{2,n}\\Gamma)^{-1}U(\\theta^*)\n",
    "$$"
   ]
  },
  {
   "cell_type": "code",
   "execution_count": 266,
   "metadata": {
    "vscode": {
     "languageId": "r"
    }
   },
   "outputs": [
    {
     "data": {
      "text/html": [
       "<table class=\"dataframe\">\n",
       "<caption>A matrix: 1 x 1 of type dbl</caption>\n",
       "<tbody>\n",
       "\t<tr><td>0.1190453</td></tr>\n",
       "</tbody>\n",
       "</table>\n"
      ],
      "text/latex": [
       "A matrix: 1 x 1 of type dbl\n",
       "\\begin{tabular}{l}\n",
       "\t 0.1190453\\\\\n",
       "\\end{tabular}\n"
      ],
      "text/markdown": [
       "\n",
       "A matrix: 1 x 1 of type dbl\n",
       "\n",
       "| 0.1190453 |\n",
       "\n"
      ],
      "text/plain": [
       "     [,1]     \n",
       "[1,] 0.1190453"
      ]
     },
     "metadata": {},
     "output_type": "display_data"
    }
   ],
   "source": [
    "Psi <- (1/lambda_1) * t(U) %*% lambda_1_inv_term %*% U\n",
    "Psi"
   ]
  },
  {
   "attachments": {},
   "cell_type": "markdown",
   "metadata": {},
   "source": [
    "<h2>Bootstrap Approximation</h2>\n",
    "\n",
    "The above but with a distribution of $U^{(m)}$\n",
    "\n",
    "\n",
    "For $m = 1, ..., M$ where $M$ is large, we draw $\\xi_1^{(m)},...,\\xi_n^{(m)}$, as independent standard normal variables.\n",
    "\n",
    "Let $\\bar \\xi^{(m)} = n^{-1}\\sum_{i=1}^n\\xi_i^{(m)}$"
   ]
  },
  {
   "cell_type": "code",
   "execution_count": 345,
   "metadata": {
    "vscode": {
     "languageId": "r"
    }
   },
   "outputs": [
    {
     "name": "stdout",
     "output_type": "stream",
     "text": [
      "[1]  3 30\n",
      "[1] 3\n"
     ]
    },
    {
     "data": {
      "text/html": [
       "<style>\n",
       ".list-inline {list-style: none; margin:0; padding: 0}\n",
       ".list-inline>li {display: inline-block}\n",
       ".list-inline>li:not(:last-child)::after {content: \"\\00b7\"; padding: 0 .5ex}\n",
       "</style>\n",
       "<ol class=list-inline><li>-0.474013118109462</li><li>1.53201000175087</li><li>-0.932153694888058</li><li>-0.189192731760575</li><li>2.2393018842252</li><li>0.506421013135384</li><li>-0.882894237415538</li><li>0.737604112108279</li><li>0.769804634068517</li><li>-0.740640758933765</li><li>0.451418851717724</li><li>1.27982659654339</li><li>2.08187228870204</li><li>0.934107465578464</li><li>-0.84408611601339</li><li>0.647098532540712</li><li>0.140638264546532</li><li>0.534487508947907</li><li>-1.20547177338687</li><li>0.0690329925015274</li><li>1.49165929180776</li><li>-0.894562917880782</li><li>0.200927002454021</li><li>-1.56501074805556</li><li>0.901986822278386</li><li>-2.01603364219934</li><li>-0.714890068846597</li><li>-1.10483478243257</li><li>-2.17364214893648</li><li>-0.780770524047718</li></ol>\n"
      ],
      "text/latex": [
       "\\begin{enumerate*}\n",
       "\\item -0.474013118109462\n",
       "\\item 1.53201000175087\n",
       "\\item -0.932153694888058\n",
       "\\item -0.189192731760575\n",
       "\\item 2.2393018842252\n",
       "\\item 0.506421013135384\n",
       "\\item -0.882894237415538\n",
       "\\item 0.737604112108279\n",
       "\\item 0.769804634068517\n",
       "\\item -0.740640758933765\n",
       "\\item 0.451418851717724\n",
       "\\item 1.27982659654339\n",
       "\\item 2.08187228870204\n",
       "\\item 0.934107465578464\n",
       "\\item -0.84408611601339\n",
       "\\item 0.647098532540712\n",
       "\\item 0.140638264546532\n",
       "\\item 0.534487508947907\n",
       "\\item -1.20547177338687\n",
       "\\item 0.0690329925015274\n",
       "\\item 1.49165929180776\n",
       "\\item -0.894562917880782\n",
       "\\item 0.200927002454021\n",
       "\\item -1.56501074805556\n",
       "\\item 0.901986822278386\n",
       "\\item -2.01603364219934\n",
       "\\item -0.714890068846597\n",
       "\\item -1.10483478243257\n",
       "\\item -2.17364214893648\n",
       "\\item -0.780770524047718\n",
       "\\end{enumerate*}\n"
      ],
      "text/markdown": [
       "1. -0.474013118109462\n",
       "2. 1.53201000175087\n",
       "3. -0.932153694888058\n",
       "4. -0.189192731760575\n",
       "5. 2.2393018842252\n",
       "6. 0.506421013135384\n",
       "7. -0.882894237415538\n",
       "8. 0.737604112108279\n",
       "9. 0.769804634068517\n",
       "10. -0.740640758933765\n",
       "11. 0.451418851717724\n",
       "12. 1.27982659654339\n",
       "13. 2.08187228870204\n",
       "14. 0.934107465578464\n",
       "15. -0.84408611601339\n",
       "16. 0.647098532540712\n",
       "17. 0.140638264546532\n",
       "18. 0.534487508947907\n",
       "19. -1.20547177338687\n",
       "20. 0.0690329925015274\n",
       "21. 1.49165929180776\n",
       "22. -0.894562917880782\n",
       "23. 0.200927002454021\n",
       "24. -1.56501074805556\n",
       "25. 0.901986822278386\n",
       "26. -2.01603364219934\n",
       "27. -0.714890068846597\n",
       "28. -1.10483478243257\n",
       "29. -2.17364214893648\n",
       "30. -0.780770524047718\n",
       "\n",
       "\n"
      ],
      "text/plain": [
       " [1] -0.47401312  1.53201000 -0.93215369 -0.18919273  2.23930188  0.50642101\n",
       " [7] -0.88289424  0.73760411  0.76980463 -0.74064076  0.45141885  1.27982660\n",
       "[13]  2.08187229  0.93410747 -0.84408612  0.64709853  0.14063826  0.53448751\n",
       "[19] -1.20547177  0.06903299  1.49165929 -0.89456292  0.20092700 -1.56501075\n",
       "[25]  0.90198682 -2.01603364 -0.71489007 -1.10483478 -2.17364215 -0.78077052"
      ]
     },
     "metadata": {},
     "output_type": "display_data"
    }
   ],
   "source": [
    "M <- 3\n",
    "xi <- sapply(1:n, function(i) rnorm(M))\n",
    "print(dim(xi)) # M x N matrix, each row is a xi_m\n",
    "\n",
    "bar_xi <- rowMeans(xi)\n",
    "print(length(bar_xi))\n",
    "\n",
    "m <- 1\n"
   ]
  },
  {
   "attachments": {},
   "cell_type": "markdown",
   "metadata": {},
   "source": [
    "Let $U^{(m)}$ be a D-dimensional vector with the $d$-th being \n",
    "\n",
    "$$\n",
    "    U_d^{(m)} = n^{-1}\\sum_{i=1}^{n}\\big(\\xi_i^{(m)}- \\bar \\xi ^{(m)}\\big)\\phi_{n,\\theta^*}(O_i, \\eta_d)\n",
    "$$\n",
    "\n",
    "where $\\phi$ is the plug-in estimator for the efficient influence function."
   ]
  },
  {
   "cell_type": "code",
   "execution_count": 282,
   "metadata": {
    "vscode": {
     "languageId": "r"
    }
   },
   "outputs": [
    {
     "name": "stdout",
     "output_type": "stream",
     "text": [
      "[1] -0.2472345\n",
      "[1] -0.4194831\n"
     ]
    }
   ],
   "source": [
    "i <- 1\n",
    "print(efficient_influence_function(as.numeric(data[i, c(1,2)]), data[i, 3], data[i, 4], function(x) run(new(\"eta\", d = 2), x)))\n",
    "\n",
    "print(efficient_influence_function(as.numeric(data[i, c(1,2)]), data[i, 3], data[i, 4], function(x) run(new(\"eta\", d = 10), x)))\n"
   ]
  },
  {
   "cell_type": "code",
   "execution_count": 332,
   "metadata": {
    "vscode": {
     "languageId": "r"
    }
   },
   "outputs": [],
   "source": [
    "eif_fn <- function(i, d){\n",
    "    eif <- efficient_influence_function(c(data$W1[i], data$W2[i]), data$A[i], data$Y[i], function(x) run(new(\"eta\", d=d), x))\n",
    "    eif\n",
    "}"
   ]
  },
  {
   "cell_type": "code",
   "execution_count": 348,
   "metadata": {
    "vscode": {
     "languageId": "r"
    }
   },
   "outputs": [],
   "source": [
    "# U should be a M x D data structure\n",
    "U <- data.frame(matrix(NA, nrow=M, ncol=D))\n",
    "for (m in 1:M){\n",
    "    for (d in 1:D){\n",
    "        U[m, d] <- mean(sapply(1:n, function(i) (xi[m, i] - bar_xi) * eif_fn(i, d)))\n",
    "    }\n",
    "}"
   ]
  },
  {
   "cell_type": "code",
   "execution_count": 347,
   "metadata": {
    "vscode": {
     "languageId": "r"
    }
   },
   "outputs": [
    {
     "data": {
      "text/html": [
       "<table class=\"dataframe\">\n",
       "<caption>A data.frame: 15 x 5</caption>\n",
       "<thead>\n",
       "\t<tr><th scope=col>X1</th><th scope=col>X2</th><th scope=col>X3</th><th scope=col>X4</th><th scope=col>X5</th></tr>\n",
       "\t<tr><th scope=col>&lt;lgl&gt;</th><th scope=col>&lt;dbl&gt;</th><th scope=col>&lt;lgl&gt;</th><th scope=col>&lt;lgl&gt;</th><th scope=col>&lt;lgl&gt;</th></tr>\n",
       "</thead>\n",
       "<tbody>\n",
       "\t<tr><td>NA</td><td> 3</td><td>NA</td><td>NA</td><td>NA</td></tr>\n",
       "\t<tr><td>NA</td><td>NA</td><td>NA</td><td>NA</td><td>NA</td></tr>\n",
       "\t<tr><td>NA</td><td>NA</td><td>NA</td><td>NA</td><td>NA</td></tr>\n",
       "\t<tr><td>NA</td><td>NA</td><td>NA</td><td>NA</td><td>NA</td></tr>\n",
       "\t<tr><td>NA</td><td>NA</td><td>NA</td><td>NA</td><td>NA</td></tr>\n",
       "\t<tr><td>NA</td><td>NA</td><td>NA</td><td>NA</td><td>NA</td></tr>\n",
       "\t<tr><td>NA</td><td>NA</td><td>NA</td><td>NA</td><td>NA</td></tr>\n",
       "\t<tr><td>NA</td><td>NA</td><td>NA</td><td>NA</td><td>NA</td></tr>\n",
       "\t<tr><td>NA</td><td>NA</td><td>NA</td><td>NA</td><td>NA</td></tr>\n",
       "\t<tr><td>NA</td><td>NA</td><td>NA</td><td>NA</td><td>NA</td></tr>\n",
       "\t<tr><td>NA</td><td>NA</td><td>NA</td><td>NA</td><td>NA</td></tr>\n",
       "\t<tr><td>NA</td><td>NA</td><td>NA</td><td>NA</td><td>NA</td></tr>\n",
       "\t<tr><td>NA</td><td>NA</td><td>NA</td><td>NA</td><td>NA</td></tr>\n",
       "\t<tr><td>NA</td><td>NA</td><td>NA</td><td>NA</td><td>NA</td></tr>\n",
       "\t<tr><td>NA</td><td>NA</td><td>NA</td><td>NA</td><td>NA</td></tr>\n",
       "</tbody>\n",
       "</table>\n"
      ],
      "text/latex": [
       "A data.frame: 15 x 5\n",
       "\\begin{tabular}{lllll}\n",
       " X1 & X2 & X3 & X4 & X5\\\\\n",
       " <lgl> & <dbl> & <lgl> & <lgl> & <lgl>\\\\\n",
       "\\hline\n",
       "\t NA &  3 & NA & NA & NA\\\\\n",
       "\t NA & NA & NA & NA & NA\\\\\n",
       "\t NA & NA & NA & NA & NA\\\\\n",
       "\t NA & NA & NA & NA & NA\\\\\n",
       "\t NA & NA & NA & NA & NA\\\\\n",
       "\t NA & NA & NA & NA & NA\\\\\n",
       "\t NA & NA & NA & NA & NA\\\\\n",
       "\t NA & NA & NA & NA & NA\\\\\n",
       "\t NA & NA & NA & NA & NA\\\\\n",
       "\t NA & NA & NA & NA & NA\\\\\n",
       "\t NA & NA & NA & NA & NA\\\\\n",
       "\t NA & NA & NA & NA & NA\\\\\n",
       "\t NA & NA & NA & NA & NA\\\\\n",
       "\t NA & NA & NA & NA & NA\\\\\n",
       "\t NA & NA & NA & NA & NA\\\\\n",
       "\\end{tabular}\n"
      ],
      "text/markdown": [
       "\n",
       "A data.frame: 15 x 5\n",
       "\n",
       "| X1 &lt;lgl&gt; | X2 &lt;dbl&gt; | X3 &lt;lgl&gt; | X4 &lt;lgl&gt; | X5 &lt;lgl&gt; |\n",
       "|---|---|---|---|---|\n",
       "| NA |  3 | NA | NA | NA |\n",
       "| NA | NA | NA | NA | NA |\n",
       "| NA | NA | NA | NA | NA |\n",
       "| NA | NA | NA | NA | NA |\n",
       "| NA | NA | NA | NA | NA |\n",
       "| NA | NA | NA | NA | NA |\n",
       "| NA | NA | NA | NA | NA |\n",
       "| NA | NA | NA | NA | NA |\n",
       "| NA | NA | NA | NA | NA |\n",
       "| NA | NA | NA | NA | NA |\n",
       "| NA | NA | NA | NA | NA |\n",
       "| NA | NA | NA | NA | NA |\n",
       "| NA | NA | NA | NA | NA |\n",
       "| NA | NA | NA | NA | NA |\n",
       "| NA | NA | NA | NA | NA |\n",
       "\n"
      ],
      "text/plain": [
       "   X1 X2 X3 X4 X5\n",
       "1  NA  3 NA NA NA\n",
       "2  NA NA NA NA NA\n",
       "3  NA NA NA NA NA\n",
       "4  NA NA NA NA NA\n",
       "5  NA NA NA NA NA\n",
       "6  NA NA NA NA NA\n",
       "7  NA NA NA NA NA\n",
       "8  NA NA NA NA NA\n",
       "9  NA NA NA NA NA\n",
       "10 NA NA NA NA NA\n",
       "11 NA NA NA NA NA\n",
       "12 NA NA NA NA NA\n",
       "13 NA NA NA NA NA\n",
       "14 NA NA NA NA NA\n",
       "15 NA NA NA NA NA"
      ]
     },
     "metadata": {},
     "output_type": "display_data"
    }
   ],
   "source": [
    "U"
   ]
  },
  {
   "cell_type": "code",
   "execution_count": 292,
   "metadata": {
    "vscode": {
     "languageId": "r"
    }
   },
   "outputs": [
    {
     "data": {
      "text/html": [
       "<style>\n",
       ".list-inline {list-style: none; margin:0; padding: 0}\n",
       ".list-inline>li {display: inline-block}\n",
       ".list-inline>li:not(:last-child)::after {content: \"\\00b7\"; padding: 0 .5ex}\n",
       "</style>\n",
       "<ol class=list-inline><li>0.0127524274463068</li><li>0.0127524274463068</li><li>0.0127524274463068</li><li>0.0127524274463068</li><li>0.0127524274463068</li></ol>\n"
      ],
      "text/latex": [
       "\\begin{enumerate*}\n",
       "\\item 0.0127524274463068\n",
       "\\item 0.0127524274463068\n",
       "\\item 0.0127524274463068\n",
       "\\item 0.0127524274463068\n",
       "\\item 0.0127524274463068\n",
       "\\end{enumerate*}\n"
      ],
      "text/markdown": [
       "1. 0.0127524274463068\n",
       "2. 0.0127524274463068\n",
       "3. 0.0127524274463068\n",
       "4. 0.0127524274463068\n",
       "5. 0.0127524274463068\n",
       "\n",
       "\n"
      ],
      "text/plain": [
       "[1] 0.01275243 0.01275243 0.01275243 0.01275243 0.01275243"
      ]
     },
     "metadata": {},
     "output_type": "display_data"
    }
   ],
   "source": [
    "# data[i, ...] <- (w, a, y)\n",
    "\n",
    "U <- numeric(D)\n",
    "for (d in 1:D){\n",
    "    U[d] <- mean(sapply(1:n, function(i) (xi[i ,] - bar_xi) * efficient_influence_function(as.numeric(data[i, c(1,2)]), data[i, 3], data[i, 4], function(x) run(new(\"eta\", d = i), x))))\n",
    "}\n",
    "U"
   ]
  },
  {
   "attachments": {},
   "cell_type": "markdown",
   "metadata": {},
   "source": [
    "The $m$-th sample, from the multiplier bootstrap estimate of the null distribution can be calculated as \n",
    "\n",
    "$$\n",
    " \\Psi_{n, \\theta^*}^{(m)}(\\mathcal{H}_{\\kappa}) = \\sup_{c \\in \\R^d}\\bigg\\{ \\bigg(U^{(m)} \\bigg)^T \\bold c: \\bold c^T\\Gamma \\bold c \\leq \\gamma, \\bold c ^T V \\bold c =1 \\bigg\\}\n",
    "$$\n",
    "\n",
    "We solve this optimisation problem by the same way as before..."
   ]
  },
  {
   "cell_type": "code",
   "execution_count": 299,
   "metadata": {
    "vscode": {
     "languageId": "r"
    }
   },
   "outputs": [
    {
     "data": {
      "text/html": [
       "<style>\n",
       ".list-inline {list-style: none; margin:0; padding: 0}\n",
       ".list-inline>li {display: inline-block}\n",
       ".list-inline>li:not(:last-child)::after {content: \"\\00b7\"; padding: 0 .5ex}\n",
       "</style>\n",
       "<ol class=list-inline><li>0.0127524274463068</li><li>0.0127524274463068</li><li>0.0127524274463068</li><li>0.0127524274463068</li><li>0.0127524274463068</li></ol>\n"
      ],
      "text/latex": [
       "\\begin{enumerate*}\n",
       "\\item 0.0127524274463068\n",
       "\\item 0.0127524274463068\n",
       "\\item 0.0127524274463068\n",
       "\\item 0.0127524274463068\n",
       "\\item 0.0127524274463068\n",
       "\\end{enumerate*}\n"
      ],
      "text/markdown": [
       "1. 0.0127524274463068\n",
       "2. 0.0127524274463068\n",
       "3. 0.0127524274463068\n",
       "4. 0.0127524274463068\n",
       "5. 0.0127524274463068\n",
       "\n",
       "\n"
      ],
      "text/plain": [
       "[1] 0.01275243 0.01275243 0.01275243 0.01275243 0.01275243"
      ]
     },
     "metadata": {},
     "output_type": "display_data"
    }
   ],
   "source": [
    "U"
   ]
  },
  {
   "cell_type": "code",
   "execution_count": 302,
   "metadata": {
    "vscode": {
     "languageId": "r"
    }
   },
   "outputs": [
    {
     "data": {
      "text/html": [
       "<style>\n",
       ".list-inline {list-style: none; margin:0; padding: 0}\n",
       ".list-inline>li {display: inline-block}\n",
       ".list-inline>li:not(:last-child)::after {content: \"\\00b7\"; padding: 0 .5ex}\n",
       "</style>\n",
       "<ol class=list-inline><li>0.0141099353644242</li><li>0.0141099353644242</li><li>0.0141099353644242</li><li>0.0141099353644242</li><li>0.0141099353644242</li><li>0.0141099353644242</li><li>0.0141099353644242</li><li>0.0141099353644242</li><li>0.0141099353644242</li><li>0.0141099353644242</li><li>0.0141099353644242</li><li>0.0141099353644242</li><li>0.0141099353644242</li><li>0.0141099353644242</li><li>0.0141099353644242</li></ol>\n"
      ],
      "text/latex": [
       "\\begin{enumerate*}\n",
       "\\item 0.0141099353644242\n",
       "\\item 0.0141099353644242\n",
       "\\item 0.0141099353644242\n",
       "\\item 0.0141099353644242\n",
       "\\item 0.0141099353644242\n",
       "\\item 0.0141099353644242\n",
       "\\item 0.0141099353644242\n",
       "\\item 0.0141099353644242\n",
       "\\item 0.0141099353644242\n",
       "\\item 0.0141099353644242\n",
       "\\item 0.0141099353644242\n",
       "\\item 0.0141099353644242\n",
       "\\item 0.0141099353644242\n",
       "\\item 0.0141099353644242\n",
       "\\item 0.0141099353644242\n",
       "\\end{enumerate*}\n"
      ],
      "text/markdown": [
       "1. 0.0141099353644242\n",
       "2. 0.0141099353644242\n",
       "3. 0.0141099353644242\n",
       "4. 0.0141099353644242\n",
       "5. 0.0141099353644242\n",
       "6. 0.0141099353644242\n",
       "7. 0.0141099353644242\n",
       "8. 0.0141099353644242\n",
       "9. 0.0141099353644242\n",
       "10. 0.0141099353644242\n",
       "11. 0.0141099353644242\n",
       "12. 0.0141099353644242\n",
       "13. 0.0141099353644242\n",
       "14. 0.0141099353644242\n",
       "15. 0.0141099353644242\n",
       "\n",
       "\n"
      ],
      "text/plain": [
       " [1] 0.01410994 0.01410994 0.01410994 0.01410994 0.01410994 0.01410994\n",
       " [7] 0.01410994 0.01410994 0.01410994 0.01410994 0.01410994 0.01410994\n",
       "[13] 0.01410994 0.01410994 0.01410994"
      ]
     },
     "metadata": {},
     "output_type": "display_data"
    }
   ],
   "source": [
    "solve_U_m <- function(U){\n",
    "    lambda_2_eq <- function(lambda){\n",
    "        inv_term <- solve(V + lambda * gamma_matrix)\n",
    "        numerator <- t(U) %*% inv_term %*% gamma_matrix %*% inv_term %*% U\n",
    "        denominator <- t(U) %*% inv_term %*% V %*% inv_term %*% U\n",
    "        return((numerator) - gamma[1]) # This is Wrong!!! # What is meant by just gamma\n",
    "    }\n",
    "\n",
    "    lambda_2 <- uniroot(lambda_2_eq, interval = c(0, 100))$root\n",
    "\n",
    "    lambda_1_inv_term <- solve(V + lambda_2 * gamma_matrix)\n",
    "    lambda_1 <- sqrt(t(U) %*% lambda_1_inv_term %*% V %*% lambda_1_inv_term %*% U)\n",
    "\n",
    "    Psi <- (1/lambda_1) * t(U) %*% lambda_1_inv_term %*% U\n",
    "    Psi\n",
    "}\n",
    "\n",
    "Psi <- numeric(M)\n",
    "for (m in 1:M){\n",
    "    Psi[m] <- solve_U_m(U)\n",
    "}\n",
    "\n",
    "Psi"
   ]
  },
  {
   "cell_type": "markdown",
   "metadata": {},
   "source": [
    "$$\n",
    "\\rho_M(t) = M^{-1}\\sum_{m=1}^M 1 (\\Psi^{(m)}_{n,\\theta^*}(\\mathcal{H}_\\kappa) > t)\n",
    "$$"
   ]
  },
  {
   "cell_type": "code",
   "execution_count": 304,
   "metadata": {
    "vscode": {
     "languageId": "r"
    }
   },
   "outputs": [
    {
     "data": {
      "text/html": [
       "1"
      ],
      "text/latex": [
       "1"
      ],
      "text/markdown": [
       "1"
      ],
      "text/plain": [
       "[1] 1"
      ]
     },
     "metadata": {},
     "output_type": "display_data"
    }
   ],
   "source": [
    "rho_t <- function(t){\n",
    "    mean(sapply(1:M, function(m) ifelse(Psi[m] > t,1, 0)))\n",
    "}\n",
    "\n",
    "rho_t(0)"
   ]
  }
 ],
 "metadata": {
  "kernelspec": {
   "display_name": "R",
   "language": "R",
   "name": "ir"
  },
  "language_info": {
   "codemirror_mode": "r",
   "file_extension": ".r",
   "mimetype": "text/x-r-source",
   "name": "R",
   "pygments_lexer": "r",
   "version": "4.3.1"
  },
  "orig_nbformat": 4
 },
 "nbformat": 4,
 "nbformat_minor": 2
}
